{
  "cells": [
    {
      "cell_type": "markdown",
      "metadata": {
        "id": "view-in-github",
        "colab_type": "text"
      },
      "source": [
        "<a href=\"https://colab.research.google.com/github/OnlyourMiracle/MachineLearning/blob/master/Course/PythonMachineLearning/PythonMachineLerning_U12.ipynb\" target=\"_parent\"><img src=\"https://colab.research.google.com/assets/colab-badge.svg\" alt=\"Open In Colab\"/></a>"
      ]
    },
    {
      "cell_type": "code",
      "source": [
        "os.chdir('/content/drive/MyDrive/MLIA/Data/mnist')\n",
        "os.getcwd()\n",
        "\n",
        "\n",
        "!gzip t10k-images-idx3-ubyte.gz -d\n",
        "!gzip t10k-labels-idx1-ubyte.gz -d\n",
        "!gzip train-images-idx3-ubyte.gz -d\n",
        "!gzip train-labels-idx1-ubyte.gz -d"
      ],
      "metadata": {
        "colab": {
          "base_uri": "https://localhost:8080/"
        },
        "id": "L_1haAj4Tcar",
        "outputId": "004187d9-32dc-4807-9225-fd94b2f0ea7e"
      },
      "execution_count": null,
      "outputs": [
        {
          "output_type": "stream",
          "name": "stdout",
          "text": [
            "gzip: t10k-images-idx3-ubyte.gz: No such file or directory\n",
            "gzip: t10k-labels-idx1-ubyte.gz: No such file or directory\n",
            "gzip: train-images-idx3-ubyte.gz: No such file or directory\n",
            "gzip: train-labels-idx1-ubyte.gz: No such file or directory\n"
          ]
        }
      ]
    },
    {
      "cell_type": "code",
      "source": [
        "import os\n",
        "import struct \n",
        "import numpy as np\n",
        "\n",
        "def load_mnist(path, kind='train'):\n",
        "  labels_path = os.path.join(path, '%s-labels-idx1-ubyte' % kind)\n",
        "  images_path = os.path.join(path, '%s-images-idx3-ubyte' % kind)\n",
        "\n",
        "  with open(labels_path, 'rb') as lbpath:\n",
        "    magic, n = struct.unpack('>II', lbpath.read(8))\n",
        "    labels = np.fromfile(lbpath, dtype=np.uint8)\n",
        "\n",
        "  with open(images_path, 'rb') as imgpath:\n",
        "    magic, num, rows, cols = struct.unpack(\">IIII\", imgpath.read(16))\n",
        "    images = np.fromfile(imgpath, dtype=np.uint8).reshape(len(labels), 784)\n",
        "    images = ((images / 255.) - .5) * 2\n",
        "\n",
        "  return images, labels"
      ],
      "metadata": {
        "id": "OCCkuZ3EM5bd"
      },
      "execution_count": null,
      "outputs": []
    },
    {
      "cell_type": "code",
      "source": [
        "x_train, y_train = load_mnist('', 'train')\n",
        "x_test, y_test = load_mnist('', 't10k')\n",
        "\n",
        "print(x_train.shape)\n",
        "print(y_train.shape)\n",
        "print(x_test.shape)\n",
        "print(y_test.shape)"
      ],
      "metadata": {
        "colab": {
          "base_uri": "https://localhost:8080/"
        },
        "id": "LU_GV0l8WFD6",
        "outputId": "0b3b6c8b-ce58-4d19-bf28-a8f9d8e24680"
      },
      "execution_count": null,
      "outputs": [
        {
          "output_type": "stream",
          "name": "stdout",
          "text": [
            "(60000, 784)\n",
            "(60000,)\n",
            "(10000, 784)\n",
            "(10000,)\n"
          ]
        }
      ]
    },
    {
      "cell_type": "code",
      "source": [
        "np.savez_compressed('/content/drive/MyDrive/MLIA/Data/mnist/mnist_scaled.npz', x_train=x_train, y_train=y_train, x_test=x_test, y_test=y_test)\n",
        "import numpy as np \n",
        "mnist = np.load('/content/drive/MyDrive/MLIA/Data/mnist/mnist_scaled.npz')\n",
        "mnist.files"
      ],
      "metadata": {
        "colab": {
          "base_uri": "https://localhost:8080/"
        },
        "id": "24Hg8AcSZNnj",
        "outputId": "8070cf24-07b3-4abb-c6f4-a936144cb9bb"
      },
      "execution_count": null,
      "outputs": [
        {
          "output_type": "execute_result",
          "data": {
            "text/plain": [
              "['x_train', 'y_train', 'x_test', 'y_test']"
            ]
          },
          "metadata": {},
          "execution_count": 4
        }
      ]
    },
    {
      "cell_type": "code",
      "source": [
        "x_train, y_train, x_test, y_test = [mnist[f] for f in ['x_train', 'y_train', 'x_test', 'y_test']]\n",
        "del mnist\n",
        "x_train.shape"
      ],
      "metadata": {
        "colab": {
          "base_uri": "https://localhost:8080/"
        },
        "id": "Beys4nTTZydK",
        "outputId": "90656d48-8198-4deb-a794-8b8acccd8b4c"
      },
      "execution_count": null,
      "outputs": [
        {
          "output_type": "execute_result",
          "data": {
            "text/plain": [
              "(60000, 784)"
            ]
          },
          "metadata": {},
          "execution_count": 5
        }
      ]
    },
    {
      "cell_type": "code",
      "source": [
        "import sys\n",
        "\n",
        "class NeuralNetMLP(object):\n",
        "  def __init__(self, n_hidden=30, l2=0., epochs=100, eta=0.001, shuffle=True, minibatch_size=1, seed=None):\n",
        "    self.random = np.random.RandomState(seed)\n",
        "    self.n_hidden = n_hidden\n",
        "    self.epochs = epochs \n",
        "    self.l2 = l2\n",
        "    self.eta = eta \n",
        "    self.shuffle = shuffle \n",
        "    self.minibatch_size = minibatch_size\n",
        "\n",
        "  def _onehot(self, y, n_classes):\n",
        "    onehot = np.zeros((n_classes, y.shape[0]))\n",
        "    for idx, val in enumerate(y.astype(int)):\n",
        "      onehot[val, idx] = 1. \n",
        "    return onehot.T \n",
        "\n",
        "  def _sigmoid(self, z):\n",
        "    return 1. / (1. + np.exp(-np.clip(z, -250, 250)))\n",
        "  \n",
        "  def _forward(self, x):\n",
        "    z_h = np.dot(x, self.w_h) + self.b_h \n",
        "    a_h = self._sigmoid(z_h) \n",
        "    z_out = np.dot(a_h, self.w_out) + self.b_out\n",
        "    a_out = self._sigmoid(z_out) \n",
        "    return z_h, a_h, z_out, a_out\n",
        "\n",
        "  def _compute_cost(self, y_enc, output):\n",
        "    L2_term = (self.l2 * (np.sum(self.w_h ** 2.) + np.sum(self.w_out ** 2.)))\n",
        "\n",
        "    term1 = -y_enc * (np.log(output))\n",
        "    term2 = (1. - y_enc) * np.log(1. - output)\n",
        "    cost = np.sum(term1 - term2) + L2_term\n",
        "    return cost \n",
        "  \n",
        "  def predict(self, x):\n",
        "    z_h, a_h, z_out, a_out = self._forward(x)\n",
        "    y_pred = np.argmax(z_out, axis=1)\n",
        "    return y_pred\n",
        "\n",
        "  def fit(self, x_train, y_train, x_valid, y_valid):\n",
        "    n_output = np.unique(y_train).shape[0]\n",
        "    n_features = x_train.shape[1]\n",
        "\n",
        "    self.b_h = np.zeros(self.n_hidden)\n",
        "    self.w_h = self.random.normal(loc=0.0, scale=0.1, size=(n_features, self.n_hidden))\n",
        "\n",
        "    self.b_out = np.zeros(n_output)\n",
        "    self.w_out = self.random.normal(loc=0.0, scale=0.1, size=(self.n_hidden, n_output))\n",
        "\n",
        "    epoch_strlen = len(str(self.epochs))\n",
        "    self.eval_ = {'cost': [], 'train_acc': [], 'valid_acc': []}\n",
        "\n",
        "    y_train_enc = self._onehot(y_train, n_output)\n",
        "\n",
        "    for i in range(self.epochs):\n",
        "      indices = np.arange(x_train.shape[0])\n",
        "      if self.shuffle:\n",
        "        self.random.shuffle(indices)\n",
        "      for start_idx in range(0, indices.shape[0] - self.minibatch_size + 1, self.minibatch_size):\n",
        "        batch_idx = indices[start_idx:start_idx + self.minibatch_size]\n",
        "        z_h, a_h, z_out, a_out = self._forward(x_train[batch_idx])\n",
        "\n",
        "        sigma_out = a_out - y_train_enc[batch_idx]\n",
        "        sigmoid_derivative_h = a_h * (1. - a_h)\n",
        "        sigma_h = (np.dot(sigma_out, self.w_out.T) * sigmoid_derivative_h)\n",
        "        grad_w_h = np.dot(x_train[batch_idx].T, sigma_h)\n",
        "        grad_b_h = np.sum(sigma_h, axis=0)\n",
        "\n",
        "        grad_w_out = np.dot(a_h.T, sigma_out)\n",
        "        grad_b_out = np.sum(sigma_out, axis=0)\n",
        "\n",
        "        delta_w_h = (grad_w_h + self.l2 * self.w_h)\n",
        "        delta_b_h = grad_b_h\n",
        "        self.w_h -= self.eta * delta_w_h\n",
        "        self.b_h -= self.eta * delta_b_h \n",
        "\n",
        "        delta_w_out = (grad_w_out + self.l2 * self.w_out)\n",
        "        delta_b_out = grad_b_out \n",
        "        self.w_out -= self.eta * delta_w_out \n",
        "        self.b_out -= self.eta * delta_b_out \n",
        "\n",
        "      z_h, a_h, z_out, a_out = self._forward(x_train)\n",
        "      cost = self._compute_cost(y_enc=y_train_enc, output=a_out)\n",
        "      y_train_pred = self.predict(x_train)\n",
        "      y_valid_pred = self.predict(x_valid)\n",
        "\n",
        "      train_acc = ((np.sum(y_train == y_train_pred)).astype(np.float)/x_train.shape[0])\n",
        "      valid_acc = ((np.sum(y_valid == y_valid_pred)).astype(np.float) / x_valid.shape[0])\n",
        "\n",
        "      sys.stderr.write('\\r%0*d/%d | Cost: %.2f '\n",
        "                '| Train/Valid Acc.: %.2f%%/%.2f%% ' %\n",
        "                (epoch_strlen, i+1, self.epochs, cost,\n",
        "                train_acc*100, valid_acc*100))\n",
        "      sys.stderr.flush()\n",
        "\n",
        "      self.eval_['cost'].append(cost)\n",
        "      self.eval_['train_acc'].append(train_acc)\n",
        "      self.eval_['valid_acc'].append(valid_acc)\n",
        "    return self"
      ],
      "metadata": {
        "id": "ExXEepURaYmu"
      },
      "execution_count": null,
      "outputs": []
    },
    {
      "cell_type": "code",
      "source": [
        "nn = NeuralNetMLP(n_hidden=100, l2=0.01, epochs=200, eta=0.0005, minibatch_size=100, shuffle=True, seed=1)\n",
        "\n",
        "nn.fit(x_train=x_train[:55000], y_train=y_train[:55000], x_valid=x_train[55000:], y_valid=y_train[55000:])"
      ],
      "metadata": {
        "colab": {
          "base_uri": "https://localhost:8080/"
        },
        "id": "JIYDughUigvT",
        "outputId": "1a25c52f-4bf2-4ab3-8c30-4e7e2153883f"
      },
      "execution_count": null,
      "outputs": [
        {
          "output_type": "stream",
          "name": "stderr",
          "text": [
            "/usr/local/lib/python3.7/dist-packages/ipykernel_launcher.py:89: DeprecationWarning: `np.float` is a deprecated alias for the builtin `float`. To silence this warning, use `float` by itself. Doing this will not modify any behavior and is safe. If you specifically wanted the numpy scalar type, use `np.float64` here.\n",
            "Deprecated in NumPy 1.20; for more details and guidance: https://numpy.org/devdocs/release/1.20.0-notes.html#deprecations\n",
            "/usr/local/lib/python3.7/dist-packages/ipykernel_launcher.py:90: DeprecationWarning: `np.float` is a deprecated alias for the builtin `float`. To silence this warning, use `float` by itself. Doing this will not modify any behavior and is safe. If you specifically wanted the numpy scalar type, use `np.float64` here.\n",
            "Deprecated in NumPy 1.20; for more details and guidance: https://numpy.org/devdocs/release/1.20.0-notes.html#deprecations\n",
            "200/200 | Cost: 5065.78 | Train/Valid Acc.: 99.28%/97.98% "
          ]
        },
        {
          "output_type": "execute_result",
          "data": {
            "text/plain": [
              "<__main__.NeuralNetMLP at 0x7f4ec0325e90>"
            ]
          },
          "metadata": {},
          "execution_count": 35
        }
      ]
    },
    {
      "cell_type": "code",
      "source": [
        "import matplotlib.pyplot as plt \n",
        "\n",
        "plt.plot(range(nn.epochs), nn.eval_['cost'])"
      ],
      "metadata": {
        "colab": {
          "base_uri": "https://localhost:8080/",
          "height": 283
        },
        "id": "4D63lU4gujDl",
        "outputId": "d412cab2-11c2-4c10-c021-9e0ba9c542da"
      },
      "execution_count": null,
      "outputs": [
        {
          "output_type": "execute_result",
          "data": {
            "text/plain": [
              "[<matplotlib.lines.Line2D at 0x7f4ec02c13d0>]"
            ]
          },
          "metadata": {},
          "execution_count": 36
        },
        {
          "output_type": "display_data",
          "data": {
            "text/plain": [
              "<Figure size 432x288 with 1 Axes>"
            ],
            "image/png": "[encoded data removed]"
          },
          "metadata": {
            "needs_background": "light"
          }
        }
      ]
    },
    {
      "cell_type": "code",
      "source": [
        "plt.plot(range(nn.epochs), nn.eval_['train_acc'], label='trainining')\n",
        "plt.plot(range(nn.epochs), nn.eval_['valid_acc'], label='validation', linestyle='--')\n",
        "plt.legend()"
      ],
      "metadata": {
        "colab": {
          "base_uri": "https://localhost:8080/",
          "height": 287
        },
        "id": "6Mo5r9Dmu3xK",
        "outputId": "4b124ecb-2e45-47f3-eb93-4fab666ce714"
      },
      "execution_count": null,
      "outputs": [
        {
          "output_type": "execute_result",
          "data": {
            "text/plain": [
              "<matplotlib.legend.Legend at 0x7f4ebd133150>"
            ]
          },
          "metadata": {},
          "execution_count": 39
        },
        {
          "output_type": "display_data",
          "data": {
            "text/plain": [
              "<Figure size 432x288 with 1 Axes>"
            ],
            "image/png": "[encoded data removed]"
          },
          "metadata": {
            "needs_background": "light"
          }
        }
      ]
    },
    {
      "cell_type": "code",
      "source": [
        "y_test_pred = nn.predict(x_test)\n",
        "acc = (np.sum(y_test == y_test_pred).astype(np.float)/x_test.shape[0])\n",
        "print(acc*100)"
      ],
      "metadata": {
        "colab": {
          "base_uri": "https://localhost:8080/"
        },
        "id": "y6Y2_Qn9vcFM",
        "outputId": "7b51f85f-405b-49ab-b890-2802e8f4e0fb"
      },
      "execution_count": null,
      "outputs": [
        {
          "output_type": "stream",
          "name": "stdout",
          "text": [
            "97.54\n"
          ]
        },
        {
          "output_type": "stream",
          "name": "stderr",
          "text": [
            "/usr/local/lib/python3.7/dist-packages/ipykernel_launcher.py:2: DeprecationWarning: `np.float` is a deprecated alias for the builtin `float`. To silence this warning, use `float` by itself. Doing this will not modify any behavior and is safe. If you specifically wanted the numpy scalar type, use `np.float64` here.\n",
            "Deprecated in NumPy 1.20; for more details and guidance: https://numpy.org/devdocs/release/1.20.0-notes.html#deprecations\n",
            "  \n"
          ]
        }
      ]
    },
    {
      "cell_type": "code",
      "source": [],
      "metadata": {
        "id": "EdmYGjGNXoeN"
      },
      "execution_count": null,
      "outputs": []
    }
  ],
  "metadata": {
    "colab": {
      "provenance": [],
      "mount_file_id": "1pRyLpfVqGjnOztsmN5_pTbB-Vj21wqQ4",
      "authorship_tag": "ABX9TyNcO86UwHxyQ8D1r8TXo5P2",
      "include_colab_link": true
    },
    "kernelspec": {
      "display_name": "Python 3",
      "name": "python3"
    }
  },
  "nbformat": 4,
  "nbformat_minor": 0
}